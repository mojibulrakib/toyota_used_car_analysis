{
 "cells": [
  {
   "cell_type": "markdown",
   "id": "0ecc93d0",
   "metadata": {},
   "source": [
    "#### Importing libraries and packages"
   ]
  },
  {
   "cell_type": "code",
   "execution_count": 260,
   "id": "9661f882",
   "metadata": {},
   "outputs": [],
   "source": [
    "#for data analysis\n",
    "import pandas as pd\n",
    "import numpy as np\n",
    "\n",
    "#for visualization\n",
    "import matplotlib.pyplot as plt\n",
    "import seaborn as sns "
   ]
  },
  {
   "cell_type": "markdown",
   "id": "d2af6e82",
   "metadata": {},
   "source": [
    "#### Read and display csv file"
   ]
  },
  {
   "cell_type": "code",
   "execution_count": 261,
   "id": "d0fe59ef",
   "metadata": {},
   "outputs": [
    {
     "name": "stdout",
     "output_type": "stream",
     "text": [
      "<class 'pandas.core.frame.DataFrame'>\n"
     ]
    },
    {
     "data": {
      "text/html": [
       "<div>\n",
       "<style scoped>\n",
       "    .dataframe tbody tr th:only-of-type {\n",
       "        vertical-align: middle;\n",
       "    }\n",
       "\n",
       "    .dataframe tbody tr th {\n",
       "        vertical-align: top;\n",
       "    }\n",
       "\n",
       "    .dataframe thead th {\n",
       "        text-align: right;\n",
       "    }\n",
       "</style>\n",
       "<table border=\"1\" class=\"dataframe\">\n",
       "  <thead>\n",
       "    <tr style=\"text-align: right;\">\n",
       "      <th></th>\n",
       "      <th>model</th>\n",
       "      <th>year</th>\n",
       "      <th>price</th>\n",
       "      <th>transmission</th>\n",
       "      <th>mileage</th>\n",
       "      <th>fuelType</th>\n",
       "      <th>mpg</th>\n",
       "      <th>engineSize</th>\n",
       "    </tr>\n",
       "  </thead>\n",
       "  <tbody>\n",
       "    <tr>\n",
       "      <th>0</th>\n",
       "      <td>GT86</td>\n",
       "      <td>2016</td>\n",
       "      <td>16000</td>\n",
       "      <td>Manual</td>\n",
       "      <td>24089</td>\n",
       "      <td>Petrol</td>\n",
       "      <td>36.2</td>\n",
       "      <td>2.0</td>\n",
       "    </tr>\n",
       "    <tr>\n",
       "      <th>1</th>\n",
       "      <td>GT86</td>\n",
       "      <td>2017</td>\n",
       "      <td>15995</td>\n",
       "      <td>Manual</td>\n",
       "      <td>18615</td>\n",
       "      <td>Petrol</td>\n",
       "      <td>36.2</td>\n",
       "      <td>2.0</td>\n",
       "    </tr>\n",
       "    <tr>\n",
       "      <th>2</th>\n",
       "      <td>GT86</td>\n",
       "      <td>2015</td>\n",
       "      <td>13998</td>\n",
       "      <td>Manual</td>\n",
       "      <td>27469</td>\n",
       "      <td>Petrol</td>\n",
       "      <td>36.2</td>\n",
       "      <td>2.0</td>\n",
       "    </tr>\n",
       "    <tr>\n",
       "      <th>3</th>\n",
       "      <td>GT86</td>\n",
       "      <td>2017</td>\n",
       "      <td>18998</td>\n",
       "      <td>Manual</td>\n",
       "      <td>14736</td>\n",
       "      <td>Petrol</td>\n",
       "      <td>36.2</td>\n",
       "      <td>2.0</td>\n",
       "    </tr>\n",
       "    <tr>\n",
       "      <th>4</th>\n",
       "      <td>GT86</td>\n",
       "      <td>2017</td>\n",
       "      <td>17498</td>\n",
       "      <td>Manual</td>\n",
       "      <td>36284</td>\n",
       "      <td>Petrol</td>\n",
       "      <td>36.2</td>\n",
       "      <td>2.0</td>\n",
       "    </tr>\n",
       "  </tbody>\n",
       "</table>\n",
       "</div>"
      ],
      "text/plain": [
       "   model  year  price transmission  mileage fuelType   mpg  engineSize\n",
       "0   GT86  2016  16000       Manual    24089   Petrol  36.2         2.0\n",
       "1   GT86  2017  15995       Manual    18615   Petrol  36.2         2.0\n",
       "2   GT86  2015  13998       Manual    27469   Petrol  36.2         2.0\n",
       "3   GT86  2017  18998       Manual    14736   Petrol  36.2         2.0\n",
       "4   GT86  2017  17498       Manual    36284   Petrol  36.2         2.0"
      ]
     },
     "metadata": {},
     "output_type": "display_data"
    },
    {
     "data": {
      "text/html": [
       "<div>\n",
       "<style scoped>\n",
       "    .dataframe tbody tr th:only-of-type {\n",
       "        vertical-align: middle;\n",
       "    }\n",
       "\n",
       "    .dataframe tbody tr th {\n",
       "        vertical-align: top;\n",
       "    }\n",
       "\n",
       "    .dataframe thead th {\n",
       "        text-align: right;\n",
       "    }\n",
       "</style>\n",
       "<table border=\"1\" class=\"dataframe\">\n",
       "  <thead>\n",
       "    <tr style=\"text-align: right;\">\n",
       "      <th></th>\n",
       "      <th>model</th>\n",
       "      <th>year</th>\n",
       "      <th>price</th>\n",
       "      <th>transmission</th>\n",
       "      <th>mileage</th>\n",
       "      <th>fuelType</th>\n",
       "      <th>mpg</th>\n",
       "      <th>engineSize</th>\n",
       "    </tr>\n",
       "  </thead>\n",
       "  <tbody>\n",
       "    <tr>\n",
       "      <th>6733</th>\n",
       "      <td>IQ</td>\n",
       "      <td>2011</td>\n",
       "      <td>5500</td>\n",
       "      <td>Automatic</td>\n",
       "      <td>30000</td>\n",
       "      <td>Petrol</td>\n",
       "      <td>58.9</td>\n",
       "      <td>1.0</td>\n",
       "    </tr>\n",
       "    <tr>\n",
       "      <th>6734</th>\n",
       "      <td>Urban Cruiser</td>\n",
       "      <td>2011</td>\n",
       "      <td>4985</td>\n",
       "      <td>Manual</td>\n",
       "      <td>36154</td>\n",
       "      <td>Petrol</td>\n",
       "      <td>50.4</td>\n",
       "      <td>1.3</td>\n",
       "    </tr>\n",
       "    <tr>\n",
       "      <th>6735</th>\n",
       "      <td>Urban Cruiser</td>\n",
       "      <td>2012</td>\n",
       "      <td>4995</td>\n",
       "      <td>Manual</td>\n",
       "      <td>46000</td>\n",
       "      <td>Diesel</td>\n",
       "      <td>57.6</td>\n",
       "      <td>1.4</td>\n",
       "    </tr>\n",
       "    <tr>\n",
       "      <th>6736</th>\n",
       "      <td>Urban Cruiser</td>\n",
       "      <td>2011</td>\n",
       "      <td>3995</td>\n",
       "      <td>Manual</td>\n",
       "      <td>60700</td>\n",
       "      <td>Petrol</td>\n",
       "      <td>50.4</td>\n",
       "      <td>1.3</td>\n",
       "    </tr>\n",
       "    <tr>\n",
       "      <th>6737</th>\n",
       "      <td>Urban Cruiser</td>\n",
       "      <td>2011</td>\n",
       "      <td>4495</td>\n",
       "      <td>Manual</td>\n",
       "      <td>45128</td>\n",
       "      <td>Petrol</td>\n",
       "      <td>50.4</td>\n",
       "      <td>1.3</td>\n",
       "    </tr>\n",
       "  </tbody>\n",
       "</table>\n",
       "</div>"
      ],
      "text/plain": [
       "               model  year  price transmission  mileage fuelType   mpg  \\\n",
       "6733              IQ  2011   5500    Automatic    30000   Petrol  58.9   \n",
       "6734   Urban Cruiser  2011   4985       Manual    36154   Petrol  50.4   \n",
       "6735   Urban Cruiser  2012   4995       Manual    46000   Diesel  57.6   \n",
       "6736   Urban Cruiser  2011   3995       Manual    60700   Petrol  50.4   \n",
       "6737   Urban Cruiser  2011   4495       Manual    45128   Petrol  50.4   \n",
       "\n",
       "      engineSize  \n",
       "6733         1.0  \n",
       "6734         1.3  \n",
       "6735         1.4  \n",
       "6736         1.3  \n",
       "6737         1.3  "
      ]
     },
     "metadata": {},
     "output_type": "display_data"
    }
   ],
   "source": [
    "#df=dataframe\n",
    "df = pd.read_csv(\"toyota.csv\")\n",
    "\n",
    "#datatype\n",
    "print(type(df))\n",
    "\n",
    "#displaying data\n",
    "display (df.head(5))\n",
    "display (df.tail(5))"
   ]
  },
  {
   "cell_type": "markdown",
   "id": "5b897b7e",
   "metadata": {},
   "source": [
    "#### Checking missing values and file info"
   ]
  },
  {
   "cell_type": "code",
   "execution_count": 262,
   "id": "5cbdf54e",
   "metadata": {
    "scrolled": true
   },
   "outputs": [
    {
     "name": "stdout",
     "output_type": "stream",
     "text": [
      "<class 'pandas.core.frame.DataFrame'>\n",
      "RangeIndex: 6738 entries, 0 to 6737\n",
      "Data columns (total 8 columns):\n",
      " #   Column        Non-Null Count  Dtype  \n",
      "---  ------        --------------  -----  \n",
      " 0   model         6738 non-null   object \n",
      " 1   year          6738 non-null   int64  \n",
      " 2   price         6738 non-null   int64  \n",
      " 3   transmission  6738 non-null   object \n",
      " 4   mileage       6738 non-null   int64  \n",
      " 5   fuelType      6738 non-null   object \n",
      " 6   mpg           6738 non-null   float64\n",
      " 7   engineSize    6738 non-null   float64\n",
      "dtypes: float64(2), int64(3), object(3)\n",
      "memory usage: 421.2+ KB\n"
     ]
    }
   ],
   "source": [
    "df.info()"
   ]
  },
  {
   "cell_type": "code",
   "execution_count": 263,
   "id": "22d7f23b",
   "metadata": {},
   "outputs": [
    {
     "name": "stdout",
     "output_type": "stream",
     "text": [
      "(6738, 8)\n",
      "number of rows =  6738\n",
      "number of columns =  8\n"
     ]
    }
   ],
   "source": [
    "#number of rows(tuple first value) and columns(tuple second value) \n",
    "print(df.shape) #this determines tuple ()\n",
    "\n",
    "print (\"number of rows = \", df.shape[0])\n",
    "print (\"number of columns = \", df.shape[1])"
   ]
  },
  {
   "cell_type": "markdown",
   "id": "3c75c8e6",
   "metadata": {},
   "source": [
    "#### No. of cars yearly in ascending order"
   ]
  },
  {
   "cell_type": "code",
   "execution_count": 264,
   "id": "c48f3010",
   "metadata": {},
   "outputs": [
    {
     "name": "stdout",
     "output_type": "stream",
     "text": [
      "[2016 2017 2015 2020 2013 2019 2018 2014 2012 2005 2003 2004 2001 2008\n",
      " 2007 2010 2011 2006 2009 2002 1999 2000 1998]\n",
      "23\n",
      "2017    2019\n",
      "2019    1286\n",
      "2018    1015\n",
      "2016     997\n",
      "2015     525\n",
      "2014     352\n",
      "2013     204\n",
      "2020     128\n",
      "2012      42\n",
      "2011      40\n",
      "2009      29\n",
      "2007      20\n",
      "2008      19\n",
      "2010      18\n",
      "2005      12\n",
      "2006      11\n",
      "2004       7\n",
      "2003       6\n",
      "2002       4\n",
      "2001       1\n",
      "1999       1\n",
      "2000       1\n",
      "1998       1\n",
      "Name: year, dtype: int64\n"
     ]
    }
   ],
   "source": [
    "#display all the values of 'year' column\n",
    "#print(df[\"year\"].values)\n",
    "\n",
    "#display unique values and lengths of 'year' column\n",
    "print(df[\"year\"].unique())\n",
    "print(len(df[\"year\"].unique()))\n",
    "\n",
    "#display ascending ordered information of 'year' column\n",
    "print(df[\"year\"].value_counts())"
   ]
  },
  {
   "cell_type": "markdown",
   "id": "c8105ae1",
   "metadata": {},
   "source": [
    "#### Model count in ascending order"
   ]
  },
  {
   "cell_type": "code",
   "execution_count": 265,
   "id": "a331c859",
   "metadata": {
    "scrolled": true
   },
   "outputs": [
    {
     "name": "stdout",
     "output_type": "stream",
     "text": [
      " Yaris            2122\n",
      " Aygo             1961\n",
      " Auris             712\n",
      " C-HR              479\n",
      " RAV4              473\n",
      " Corolla           267\n",
      " Prius             232\n",
      " Avensis           115\n",
      " Verso             114\n",
      " Hilux              86\n",
      " GT86               73\n",
      " Land Cruiser       51\n",
      " PROACE VERSO       15\n",
      " Supra              12\n",
      " Camry              11\n",
      " IQ                  8\n",
      " Urban Cruiser       4\n",
      " Verso-S             3\n",
      "Name: model, dtype: int64\n"
     ]
    }
   ],
   "source": [
    "print(df[\"model\"].value_counts())"
   ]
  },
  {
   "cell_type": "code",
   "execution_count": null,
   "id": "158f0957",
   "metadata": {},
   "outputs": [],
   "source": []
  },
  {
   "cell_type": "markdown",
   "id": "a8ac85fc",
   "metadata": {},
   "source": [
    "## Counting the 'fueltype' column"
   ]
  },
  {
   "cell_type": "code",
   "execution_count": 266,
   "id": "52e5d209",
   "metadata": {
    "scrolled": true
   },
   "outputs": [
    {
     "name": "stdout",
     "output_type": "stream",
     "text": [
      "Petrol    4087\n",
      "Hybrid    2043\n",
      "Diesel     503\n",
      "Other      105\n",
      "Name: fuelType, dtype: int64\n",
      "<class 'pandas.core.series.Series'>\n"
     ]
    },
    {
     "data": {
      "text/html": [
       "<div>\n",
       "<style scoped>\n",
       "    .dataframe tbody tr th:only-of-type {\n",
       "        vertical-align: middle;\n",
       "    }\n",
       "\n",
       "    .dataframe tbody tr th {\n",
       "        vertical-align: top;\n",
       "    }\n",
       "\n",
       "    .dataframe thead th {\n",
       "        text-align: right;\n",
       "    }\n",
       "</style>\n",
       "<table border=\"1\" class=\"dataframe\">\n",
       "  <thead>\n",
       "    <tr style=\"text-align: right;\">\n",
       "      <th></th>\n",
       "      <th>fuelType</th>\n",
       "    </tr>\n",
       "  </thead>\n",
       "  <tbody>\n",
       "    <tr>\n",
       "      <th>Petrol</th>\n",
       "      <td>4087</td>\n",
       "    </tr>\n",
       "    <tr>\n",
       "      <th>Hybrid</th>\n",
       "      <td>2043</td>\n",
       "    </tr>\n",
       "    <tr>\n",
       "      <th>Diesel</th>\n",
       "      <td>503</td>\n",
       "    </tr>\n",
       "    <tr>\n",
       "      <th>Other</th>\n",
       "      <td>105</td>\n",
       "    </tr>\n",
       "  </tbody>\n",
       "</table>\n",
       "</div>"
      ],
      "text/plain": [
       "        fuelType\n",
       "Petrol      4087\n",
       "Hybrid      2043\n",
       "Diesel       503\n",
       "Other        105"
      ]
     },
     "metadata": {},
     "output_type": "display_data"
    },
    {
     "name": "stdout",
     "output_type": "stream",
     "text": [
      "Index(['Petrol', 'Hybrid', 'Diesel', 'Other'], dtype='object')\n",
      "Index(['fuelType'], dtype='object')\n"
     ]
    }
   ],
   "source": [
    "print(df[\"fuelType\"].value_counts())\n",
    "print(type(df[\"fuelType\"].value_counts()))\n",
    "\n",
    "#converting to Dataframe (more usable)\n",
    "df_fuelType = pd.DataFrame(df[\"fuelType\"].value_counts())\n",
    "display(df_fuelType.head())\n",
    "\n",
    "#to check index and columns of the dataframe\n",
    "print(df_fuelType.index)\n",
    "print(df_fuelType.columns)"
   ]
  },
  {
   "cell_type": "markdown",
   "id": "c118a77d",
   "metadata": {},
   "source": [
    "#### Pie chart for 'fuelType' column"
   ]
  },
  {
   "cell_type": "code",
   "execution_count": 267,
   "id": "b9c76752",
   "metadata": {
    "scrolled": false
   },
   "outputs": [
    {
     "data": {
      "image/png": "[encoded data removed]",
      "text/plain": [
       "<Figure size 432x288 with 1 Axes>"
      ]
     },
     "metadata": {},
     "output_type": "display_data"
    }
   ],
   "source": [
    "df[\"fuelType\"].value_counts().plot(kind=\"pie\", \n",
    "                                       autopct='%1.2f%%', \n",
    "                                       title=\"Types of fuel\", \n",
    "                                       startangle=180, \n",
    "                                       fontsize=10)\n",
    "#remove y axis label\n",
    "plt.ylabel(\"\")\n",
    "\n",
    "#remove extra information\n",
    "plt.show()"
   ]
  },
  {
   "cell_type": "markdown",
   "id": "d2a4b29b",
   "metadata": {},
   "source": [
    "#### Resetting the columns"
   ]
  },
  {
   "cell_type": "code",
   "execution_count": 268,
   "id": "8a1282cc",
   "metadata": {
    "scrolled": true
   },
   "outputs": [
    {
     "data": {
      "text/html": [
       "<div>\n",
       "<style scoped>\n",
       "    .dataframe tbody tr th:only-of-type {\n",
       "        vertical-align: middle;\n",
       "    }\n",
       "\n",
       "    .dataframe tbody tr th {\n",
       "        vertical-align: top;\n",
       "    }\n",
       "\n",
       "    .dataframe thead th {\n",
       "        text-align: right;\n",
       "    }\n",
       "</style>\n",
       "<table border=\"1\" class=\"dataframe\">\n",
       "  <thead>\n",
       "    <tr style=\"text-align: right;\">\n",
       "      <th></th>\n",
       "      <th>fuelType</th>\n",
       "      <th>no_of_cars</th>\n",
       "      <th>% of cars</th>\n",
       "    </tr>\n",
       "  </thead>\n",
       "  <tbody>\n",
       "    <tr>\n",
       "      <th>0</th>\n",
       "      <td>Petrol</td>\n",
       "      <td>4087</td>\n",
       "      <td>60.66</td>\n",
       "    </tr>\n",
       "    <tr>\n",
       "      <th>1</th>\n",
       "      <td>Hybrid</td>\n",
       "      <td>2043</td>\n",
       "      <td>30.32</td>\n",
       "    </tr>\n",
       "    <tr>\n",
       "      <th>2</th>\n",
       "      <td>Diesel</td>\n",
       "      <td>503</td>\n",
       "      <td>7.47</td>\n",
       "    </tr>\n",
       "    <tr>\n",
       "      <th>3</th>\n",
       "      <td>Other</td>\n",
       "      <td>105</td>\n",
       "      <td>1.56</td>\n",
       "    </tr>\n",
       "  </tbody>\n",
       "</table>\n",
       "</div>"
      ],
      "text/plain": [
       "  fuelType  no_of_cars  % of cars\n",
       "0   Petrol        4087      60.66\n",
       "1   Hybrid        2043      30.32\n",
       "2   Diesel         503       7.47\n",
       "3    Other         105       1.56"
      ]
     },
     "metadata": {},
     "output_type": "display_data"
    }
   ],
   "source": [
    "#first reset the index\n",
    "df_fuelType = df_fuelType.reset_index()\n",
    "\n",
    "#second rename the columns\n",
    "df_fuelType = df_fuelType.rename(columns = {\"index\":\"fuelType\",\n",
    "                                           \"fuelType\":\"no_of_cars\"})\n",
    "\n",
    "#create new column (% of cars)\n",
    "df_fuelType[\"% of cars\"] = df_fuelType[\"no_of_cars\"]/df.shape[0]*100\n",
    "\n",
    "#limit the decimals\n",
    "df_fuelType = df_fuelType.round(2)\n",
    "display(df_fuelType)"
   ]
  },
  {
   "cell_type": "markdown",
   "id": "53578d64",
   "metadata": {},
   "source": [
    "#### Barplot for 'fuelType' column "
   ]
  },
  {
   "cell_type": "code",
   "execution_count": 269,
   "id": "d661fee5",
   "metadata": {},
   "outputs": [
    {
     "data": {
      "image/png": "[encoded data removed]",
      "text/plain": [
       "<Figure size 432x288 with 1 Axes>"
      ]
     },
     "metadata": {
      "needs_background": "light"
     },
     "output_type": "display_data"
    }
   ],
   "source": [
    "sns.barplot(x=\"fuelType\", \n",
    "            y=\"% of cars\", \n",
    "            data=df_fuelType, \n",
    "            color = \"blue\",\n",
    "           alpha=0.7) #alpha=transparency\n",
    "\n",
    "\n",
    "plt.xlabel(\"Types of fuel\")\n",
    "plt.ylabel(\"% of cars\")\n",
    "plt.title(\"Parcentage of cars present in each fuelType\")\n",
    "\n",
    "#resizing y axis values\n",
    "plt.yticks(np.arange(0,101,10)) #(start value, max value, interval/increment)\n",
    "plt.show()"
   ]
  },
  {
   "cell_type": "markdown",
   "id": "2698385d",
   "metadata": {},
   "source": [
    "## Counting the 'transmission' column"
   ]
  },
  {
   "cell_type": "code",
   "execution_count": 270,
   "id": "12906b5a",
   "metadata": {
    "scrolled": false
   },
   "outputs": [
    {
     "name": "stdout",
     "output_type": "stream",
     "text": [
      "Manual       3826\n",
      "Automatic    2657\n",
      "Semi-Auto     254\n",
      "Other           1\n",
      "Name: transmission, dtype: int64\n"
     ]
    }
   ],
   "source": [
    "print(df[\"transmission\"].value_counts())"
   ]
  },
  {
   "cell_type": "markdown",
   "id": "986cce65",
   "metadata": {},
   "source": [
    "#### Pie plot for 'transmission' column"
   ]
  },
  {
   "cell_type": "code",
   "execution_count": 271,
   "id": "d67bc17f",
   "metadata": {},
   "outputs": [
    {
     "data": {
      "image/png": "[encoded data removed]",
      "text/plain": [
       "<Figure size 432x288 with 1 Axes>"
      ]
     },
     "metadata": {},
     "output_type": "display_data"
    }
   ],
   "source": [
    "df[\"transmission\"].value_counts().plot(kind=\"pie\", \n",
    "                                       autopct='%1.2f%%', \n",
    "                                       title=\"Transmission\", \n",
    "                                       startangle=180, \n",
    "                                       fontsize=10)\n",
    "\n",
    "plt.ylabel(\"\")\n",
    "plt.show()"
   ]
  },
  {
   "cell_type": "markdown",
   "id": "88766ae7",
   "metadata": {},
   "source": [
    "#### Barplot for 'transmission' column"
   ]
  },
  {
   "cell_type": "code",
   "execution_count": 272,
   "id": "3a754db1",
   "metadata": {},
   "outputs": [
    {
     "data": {
      "image/png": "[encoded data removed]",
      "text/plain": [
       "<Figure size 432x288 with 1 Axes>"
      ]
     },
     "metadata": {
      "needs_background": "light"
     },
     "output_type": "display_data"
    }
   ],
   "source": [
    "sns.barplot(x=\"transmission\", \n",
    "            y=\"% of cars\", \n",
    "            data=df_transmission, \n",
    "            color = \"red\",\n",
    "           alpha=0.7)\n",
    "\n",
    "plt.xlabel(\"Types of transmission\")\n",
    "plt.ylabel(\"% of cars\")\n",
    "plt.title(\"Parcentage of cars present in each transmission\")\n",
    "\n",
    "plt.yticks(np.arange(0,101,10))\n",
    "plt.show()"
   ]
  },
  {
   "cell_type": "code",
   "execution_count": null,
   "id": "02150b67",
   "metadata": {},
   "outputs": [],
   "source": []
  }
 ],
 "metadata": {
  "celltoolbar": "Raw Cell Format",
  "kernelspec": {
   "display_name": "Python 3 (ipykernel)",
   "language": "python",
   "name": "python3"
  },
  "language_info": {
   "codemirror_mode": {
    "name": "ipython",
    "version": 3
   },
   "file_extension": ".py",
   "mimetype": "text/x-python",
   "name": "python",
   "nbconvert_exporter": "python",
   "pygments_lexer": "ipython3",
   "version": "3.9.7"
  }
 },
 "nbformat": 4,
 "nbformat_minor": 5
}
